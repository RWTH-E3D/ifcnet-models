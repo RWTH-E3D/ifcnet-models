{
 "cells": [
  {
   "cell_type": "code",
   "execution_count": null,
   "id": "wicked-proposal",
   "metadata": {},
   "outputs": [],
   "source": [
    "%reload_ext autoreload\n",
    "%autoreload 2\n",
    "%matplotlib inline"
   ]
  },
  {
   "cell_type": "code",
   "execution_count": null,
   "id": "secret-policy",
   "metadata": {},
   "outputs": [],
   "source": [
    "import numpy as np\n",
    "import pandas as pd\n",
    "from pathlib import Path\n",
    "import json\n",
    "import matplotlib.pyplot as plt\n",
    "import seaborn as sn\n",
    "import sklearn.metrics as metrics\n",
    "from sklearn.preprocessing import label_binarize"
   ]
  },
  {
   "cell_type": "code",
   "execution_count": null,
   "id": "announced-happiness",
   "metadata": {},
   "outputs": [],
   "source": [
    "with open(\"../IFCNetCore_Classes.json\", \"r\") as f:\n",
    "    class_names = json.load(f)"
   ]
  },
  {
   "cell_type": "code",
   "execution_count": null,
   "id": "plain-dispute",
   "metadata": {},
   "outputs": [],
   "source": [
    "mvcnn_data = np.load(\"MVCNNProbs.npz\")\n",
    "mvcnn_labels, mvcnn_probs = mvcnn_data[\"labels\"], mvcnn_data[\"probs\"]\n",
    "mvcnn_binary_labels = label_binarize(mvcnn_labels, classes=list(range(len(class_names))))\n",
    "mvcnn_precision, mvcnn_recall, _ = metrics.precision_recall_curve(mvcnn_binary_labels.ravel(), mvcnn_probs.ravel())\n",
    "mvcnn_auc = metrics.auc(mvcnn_recall, mvcnn_precision)"
   ]
  },
  {
   "cell_type": "code",
   "execution_count": null,
   "id": "conservative-excerpt",
   "metadata": {},
   "outputs": [],
   "source": [
    "dgcnn_data = np.load(\"DGCNNProbs.npz\")\n",
    "dgcnn_labels, dgcnn_probs = dgcnn_data[\"labels\"], dgcnn_data[\"probs\"]\n",
    "dgcnn_binary_labels = label_binarize(dgcnn_labels, classes=list(range(len(class_names))))\n",
    "dgcnn_precision, dgcnn_recall, _ = metrics.precision_recall_curve(dgcnn_binary_labels.ravel(), dgcnn_probs.ravel())\n",
    "dgcnn_auc = metrics.auc(dgcnn_recall, dgcnn_precision)"
   ]
  },
  {
   "cell_type": "code",
   "execution_count": null,
   "id": "direct-dutch",
   "metadata": {},
   "outputs": [],
   "source": [
    "meshnet_data = np.load(\"MeshNetProbs.npz\")\n",
    "meshnet_labels, meshnet_probs = meshnet_data[\"labels\"], meshnet_data[\"probs\"]\n",
    "meshnet_binary_labels = label_binarize(meshnet_labels, classes=list(range(len(class_names))))\n",
    "meshnet_precision, meshnet_recall, _ = metrics.precision_recall_curve(meshnet_binary_labels.ravel(),\n",
    "                                                                      meshnet_probs.ravel())\n",
    "meshnet_auc = metrics.auc(meshnet_recall, meshnet_precision)"
   ]
  },
  {
   "cell_type": "code",
   "execution_count": null,
   "id": "ahead-lease",
   "metadata": {},
   "outputs": [],
   "source": [
    "plt.plot(mvcnn_recall, mvcnn_precision, label=f\"MVCNN ({mvcnn_auc:.4f} AUC)\")\n",
    "plt.plot(dgcnn_recall, dgcnn_precision, label=f\"DGCNN ({dgcnn_auc:.4f} AUC)\")\n",
    "plt.plot(meshnet_recall, meshnet_precision, label=f\"MeshNet ({meshnet_auc:.4f} AUC)\")\n",
    "plt.legend()\n",
    "plt.savefig(\"../reports/figures/pr_curve_all.png\", dpi=300, bbox_inches=\"tight\")\n",
    "plt.show()"
   ]
  },
  {
   "cell_type": "code",
   "execution_count": null,
   "id": "geological-suggestion",
   "metadata": {},
   "outputs": [],
   "source": [
    "def plot_class_pr_curves(meshnet_data, dgcnn_data, mvcnn_data, class_names, classes_to_plot, rows, cols):\n",
    "    plt.figure(figsize=(12, 7))\n",
    "    data = {\"MVCNN\": mvcnn_data, \"DGCNN\": dgcnn_data, \"MeshNet\": meshnet_data}\n",
    "    \n",
    "    plt.subplot(rows, cols, 1)\n",
    "    plt.title(\"Overall\")\n",
    "    plt.plot(mvcnn_recall, mvcnn_precision, label=f\"MVCNN ({mvcnn_auc:.4f} AUC)\")\n",
    "    plt.plot(dgcnn_recall, dgcnn_precision, label=f\"DGCNN ({dgcnn_auc:.4f} AUC)\")\n",
    "    plt.plot(meshnet_recall, meshnet_precision, label=f\"MeshNet ({meshnet_auc:.4f} AUC)\")\n",
    "    plt.legend(loc=\"lower left\")\n",
    "    \n",
    "    plot_count = 2\n",
    "    for i, class_name in enumerate(class_names):\n",
    "        if class_name not in classes_to_plot: continue\n",
    "        plt.subplot(rows, cols, plot_count)\n",
    "        plt.title(class_name)\n",
    "        for model_name, model_data in data.items():\n",
    "            labels, probs = model_data[\"labels\"], model_data[\"probs\"]\n",
    "            precision, recall, thresholds = metrics.precision_recall_curve(labels, probs[:, i], pos_label=i)\n",
    "            auc = metrics.auc(recall, precision)\n",
    "            plt.plot(recall, precision, label=f\"{model_name} ({auc:.4f} AUC)\")\n",
    "        plot_count += 1\n",
    "        plt.legend(loc=\"lower left\")\n",
    "    plt.savefig(\"../reports/figures/class_pr_curves.png\", dpi=300, bbox_inches=\"tight\")\n",
    "    plt.show()"
   ]
  },
  {
   "cell_type": "code",
   "execution_count": null,
   "id": "sacred-grammar",
   "metadata": {},
   "outputs": [],
   "source": [
    "classes_to_plot = [\"IfcDuctSegment\", \"IfcPipeFitting\", \"IfcPipeSegment\", \"IfcOutlet\", \"IfcValve\"]\n",
    "plot_class_pr_curves(meshnet_data, dgcnn_data, mvcnn_data, class_names, classes_to_plot, 2, 3)"
   ]
  },
  {
   "cell_type": "code",
   "execution_count": null,
   "id": "wrong-consortium",
   "metadata": {},
   "outputs": [],
   "source": [
    "def plot_model_pr_curves(labels, probs, class_names, classes_to_plot, fname):\n",
    "    for i, class_name in enumerate(class_names):\n",
    "        if class_name not in classes_to_plot: continue\n",
    "        precision, recall, thresholds = metrics.precision_recall_curve(labels, probs[:, i], pos_label=i)\n",
    "        auc = metrics.auc(recall, precision)\n",
    "        plt.plot(recall, precision, label=f\"{class_name} ({auc:.4f} AUC)\")\n",
    "    plt.legend()\n",
    "    plt.xlabel(\"Recall\")\n",
    "    plt.ylabel(\"Precision\")\n",
    "    if fname:\n",
    "        plt.savefig(\"../reports/figures/\" + fname, dpi=300, bbox_inches=\"tight\")\n",
    "    plt.show()"
   ]
  },
  {
   "cell_type": "code",
   "execution_count": null,
   "id": "continental-issue",
   "metadata": {},
   "outputs": [],
   "source": [
    "plot_model_pr_curves(dgcnn_labels, dgcnn_probs, class_names, classes_to_plot, fname=\"dgcnn_pr_curves.png\")"
   ]
  },
  {
   "cell_type": "code",
   "execution_count": null,
   "id": "welcome-exemption",
   "metadata": {},
   "outputs": [],
   "source": [
    "plot_model_pr_curves(meshnet_labels, meshnet_probs, class_names, classes_to_plot, fname=\"meshnet_pr_curves.png\")"
   ]
  },
  {
   "cell_type": "code",
   "execution_count": null,
   "id": "rental-strength",
   "metadata": {},
   "outputs": [],
   "source": [
    "plot_model_pr_curves(mvcnn_labels, mvcnn_probs, class_names, classes_to_plot, fname=\"mvcnn_pr_curves.png\")"
   ]
  },
  {
   "cell_type": "code",
   "execution_count": null,
   "id": "resistant-darwin",
   "metadata": {},
   "outputs": [],
   "source": []
  }
 ],
 "metadata": {
  "kernelspec": {
   "display_name": "Python 3",
   "language": "python",
   "name": "python3"
  },
  "language_info": {
   "codemirror_mode": {
    "name": "ipython",
    "version": 3
   },
   "file_extension": ".py",
   "mimetype": "text/x-python",
   "name": "python",
   "nbconvert_exporter": "python",
   "pygments_lexer": "ipython3",
   "version": "3.8.10"
  }
 },
 "nbformat": 4,
 "nbformat_minor": 5
}
