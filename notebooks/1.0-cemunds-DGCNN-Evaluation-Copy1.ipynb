{
 "cells": [
  {
   "cell_type": "code",
   "execution_count": 1,
   "id": "wicked-proposal",
   "metadata": {},
   "outputs": [],
   "source": [
    "%reload_ext autoreload\n",
    "%autoreload 2\n",
    "%matplotlib inline"
   ]
  },
  {
   "cell_type": "code",
   "execution_count": 2,
   "id": "secret-policy",
   "metadata": {},
   "outputs": [],
   "source": [
    "import shutil\n",
    "import numpy as np\n",
    "import pandas as pd\n",
    "from pathlib import Path\n",
    "import json\n",
    "import torch\n",
    "from tqdm import tqdm\n",
    "import matplotlib.pyplot as plt\n",
    "import seaborn as sn\n",
    "from src.data import IFCNetPlySparse\n",
    "from src.models.models import MinkowskiPointNet\n",
    "from torch.utils.data import DataLoader, Subset, Dataset\n",
    "import torch.nn.functional as F\n",
    "import sklearn.metrics as metrics\n",
    "import torch.nn as nn\n",
    "from sklearn.preprocessing import label_binarize\n",
    "import MinkowskiEngine as ME"
   ]
  },
  {
   "cell_type": "code",
   "execution_count": 3,
   "id": "eligible-maine",
   "metadata": {},
   "outputs": [],
   "source": [
    "data_root = Path(\"../data/processed/IFCGeom/IFCNetCore\")\n",
    "\n",
    "with open(\"../IFCNetCore_Classes.json\", \"r\") as f:\n",
    "    class_names = json.load(f)"
   ]
  },
  {
   "cell_type": "code",
   "execution_count": 4,
   "id": "occasional-values",
   "metadata": {},
   "outputs": [],
   "source": [
    "train_dataset = IFCNetPlySparse(data_root, class_names, partition=\"train\")\n",
    "val_dataset = IFCNetPlySparse(data_root, class_names, partition=\"train\")\n",
    "test_dataset = IFCNetPlySparse(data_root, class_names, partition=\"test\")\n",
    "\n",
    "np.random.seed(42)\n",
    "perm = np.random.permutation(range(len(train_dataset)))\n",
    "train_len = int(0.7 * len(train_dataset))\n",
    "train_dataset = Subset(train_dataset, sorted(perm[:train_len]))\n",
    "val_dataset = Subset(val_dataset, sorted(perm[train_len:]))\n",
    "\n",
    "train_loader = DataLoader(train_dataset, shuffle=True, batch_size=8, num_workers=8, collate_fn=ME.utils.SparseCollation())\n",
    "val_loader = DataLoader(val_dataset, batch_size=8, num_workers=8, collate_fn=ME.utils.SparseCollation())\n",
    "test_loader = DataLoader(test_dataset, batch_size=8, num_workers=8, collate_fn=ME.utils.SparseCollation())"
   ]
  },
  {
   "cell_type": "code",
   "execution_count": 5,
   "id": "buried-spectrum",
   "metadata": {},
   "outputs": [],
   "source": [
    "#model_dir = Path(\"../models/\")\n",
    "#with (model_dir/\"DGCNNParams.json\").open(\"r\") as f:\n",
    "#    config = json.load(f)\n",
    "\n",
    "model = MinkowskiPointNet(len(class_names))\n",
    "#model_state, _ = torch.load(model_dir/\"DGCNNWeights+Optimizer\")\n",
    "#model.load_state_dict(model_state)"
   ]
  },
  {
   "cell_type": "code",
   "execution_count": 6,
   "id": "checked-magnitude",
   "metadata": {},
   "outputs": [
    {
     "data": {
      "text/plain": [
       "MinkowskiPointNet(\n",
       "  (conv1): Sequential(\n",
       "    (0): MinkowskiLinear(in_features=3, out_features=64, bias=False)\n",
       "    (1): MinkowskiBatchNorm(64, eps=1e-05, momentum=0.1, affine=True, track_running_stats=True)\n",
       "    (2): MinkowskiReLU()\n",
       "  )\n",
       "  (conv2): Sequential(\n",
       "    (0): MinkowskiLinear(in_features=64, out_features=64, bias=False)\n",
       "    (1): MinkowskiBatchNorm(64, eps=1e-05, momentum=0.1, affine=True, track_running_stats=True)\n",
       "    (2): MinkowskiReLU()\n",
       "  )\n",
       "  (conv3): Sequential(\n",
       "    (0): MinkowskiLinear(in_features=64, out_features=64, bias=False)\n",
       "    (1): MinkowskiBatchNorm(64, eps=1e-05, momentum=0.1, affine=True, track_running_stats=True)\n",
       "    (2): MinkowskiReLU()\n",
       "  )\n",
       "  (conv4): Sequential(\n",
       "    (0): MinkowskiLinear(in_features=64, out_features=128, bias=False)\n",
       "    (1): MinkowskiBatchNorm(128, eps=1e-05, momentum=0.1, affine=True, track_running_stats=True)\n",
       "    (2): MinkowskiReLU()\n",
       "  )\n",
       "  (conv5): Sequential(\n",
       "    (0): MinkowskiLinear(in_features=128, out_features=1024, bias=False)\n",
       "    (1): MinkowskiBatchNorm(1024, eps=1e-05, momentum=0.1, affine=True, track_running_stats=True)\n",
       "    (2): MinkowskiReLU()\n",
       "  )\n",
       "  (max_pool): MinkowskiGlobalMaxPooling(mode=PoolingMode.GLOBAL_MAX_POOLING_PYTORCH_INDEX)\n",
       "  (linear1): Sequential(\n",
       "    (0): MinkowskiLinear(in_features=1024, out_features=512, bias=False)\n",
       "    (1): MinkowskiBatchNorm(512, eps=1e-05, momentum=0.1, affine=True, track_running_stats=True)\n",
       "    (2): MinkowskiReLU()\n",
       "  )\n",
       "  (dp1): MinkowskiDropout()\n",
       "  (linear2): MinkowskiLinear(in_features=512, out_features=20, bias=True)\n",
       ")"
      ]
     },
     "execution_count": 6,
     "metadata": {},
     "output_type": "execute_result"
    }
   ],
   "source": [
    "device = torch.device(\"cuda\")\n",
    "model.eval()\n",
    "model.to(device)"
   ]
  },
  {
   "cell_type": "code",
   "execution_count": 7,
   "id": "amateur-plasma",
   "metadata": {},
   "outputs": [],
   "source": [
    "def calc_metrics(probabilities, labels):\n",
    "    predictions = np.argmax(probabilities, axis=1)\n",
    "\n",
    "    acc = metrics.accuracy_score(labels, predictions)\n",
    "    balanced_acc = metrics.balanced_accuracy_score(labels, predictions)\n",
    "    precision = metrics.precision_score(labels, predictions, average=\"weighted\")\n",
    "    recall = metrics.recall_score(labels, predictions, average=\"weighted\")\n",
    "    f1 = metrics.f1_score(labels, predictions, average=\"weighted\")\n",
    "\n",
    "    return {\n",
    "        f\"accuracy_score\": acc,\n",
    "        f\"balanced_accuracy_score\": balanced_acc,\n",
    "        f\"precision_score\": precision,\n",
    "        f\"recall_score\": recall,\n",
    "        f\"f1_score\": f1\n",
    "    }\n",
    "\n",
    "def plot_confusion_matrix(confusion_matrix, display_labels, fname=None):\n",
    "    labels = list(map(lambda x: x[3:], display_labels))\n",
    "    df = pd.DataFrame(confusion_matrix, index=labels, columns=labels)\n",
    "    plt.figure(figsize=(7, 5))\n",
    "    heatmap = sn.heatmap(df, cmap=\"Blues\", annot=True, fmt=\"d\", cbar=False)\n",
    "    plt.ylabel(\"Actual class\")\n",
    "    plt.xlabel(\"Predicted class\")\n",
    "    if fname:\n",
    "        plt.savefig(fname, dpi=300, bbox_inches=\"tight\")\n",
    "\n",
    "def eval(model, loader, device, class_names, fname=None):\n",
    "    model.eval()\n",
    "    all_probs = []\n",
    "    all_labels = []\n",
    "\n",
    "    with torch.no_grad():\n",
    "        for coords, feats, labels in tqdm(loader):\n",
    "            labels = torch.tensor(labels)\n",
    "            coords, feats, labels = coords.to(device), feats.to(device), labels.to(device)\n",
    "            tensor = ME.SparseTensor(feats, coords)\n",
    "\n",
    "            outputs = model(tensor)\n",
    "\n",
    "            probs = F.softmax(outputs, dim=1)\n",
    "            all_probs.append(probs.cpu().detach().numpy())\n",
    "            all_labels.append(labels.cpu().numpy())\n",
    "\n",
    "    all_probs = np.concatenate(all_probs)\n",
    "    all_labels = np.concatenate(all_labels)\n",
    "    result = calc_metrics(all_probs, all_labels)\n",
    "    predictions = np.argmax(all_probs, axis=1)\n",
    "    confusion_matrix = metrics.confusion_matrix(all_labels, predictions)\n",
    "    plot_confusion_matrix(confusion_matrix, class_names, fname=fname)\n",
    "    return all_labels, all_probs"
   ]
  },
  {
   "cell_type": "code",
   "execution_count": 8,
   "id": "monthly-operations",
   "metadata": {},
   "outputs": [
    {
     "name": "stderr",
     "output_type": "stream",
     "text": [
      "100%|██████████| 486/486 [00:09<00:00, 49.66it/s]\n",
      "/home/ce/anaconda3/envs/ifcnet/lib/python3.8/site-packages/sklearn/metrics/_classification.py:1248: UndefinedMetricWarning: Precision is ill-defined and being set to 0.0 in labels with no predicted samples. Use `zero_division` parameter to control this behavior.\n",
      "  _warn_prf(average, modifier, msg_start, len(result))\n"
     ]
    },
    {
     "data": {
      "text/plain": [
       "(array([11,  3,  5, ..., 10,  2, 10]),\n",
       " array([[0.04806889, 0.05088232, 0.05163404, ..., 0.05026123, 0.05003161,\n",
       "         0.04803826],\n",
       "        [0.04816166, 0.05094887, 0.05144976, ..., 0.05004217, 0.05032782,\n",
       "         0.04795247],\n",
       "        [0.04814095, 0.05069536, 0.05153466, ..., 0.05021037, 0.0499936 ,\n",
       "         0.04797242],\n",
       "        ...,\n",
       "        [0.04815051, 0.05066952, 0.05153682, ..., 0.05021774, 0.04995967,\n",
       "         0.04797217],\n",
       "        [0.04815483, 0.05065804, 0.05152582, ..., 0.05021181, 0.04995501,\n",
       "         0.04796447],\n",
       "        [0.04815495, 0.05064857, 0.05152485, ..., 0.05021395, 0.04994527,\n",
       "         0.04796454]], dtype=float32))"
      ]
     },
     "execution_count": 8,
     "metadata": {},
     "output_type": "execute_result"
    },
    {
     "data": {
      "image/png": "[encoded data removed]",
      "text/plain": [
       "<Figure size 504x360 with 1 Axes>"
      ]
     },
     "metadata": {
      "needs_background": "light"
     },
     "output_type": "display_data"
    }
   ],
   "source": [
    "eval(model, train_loader, device, class_names)"
   ]
  },
  {
   "cell_type": "code",
   "execution_count": null,
   "id": "later-trustee",
   "metadata": {},
   "outputs": [],
   "source": [
    "eval(model, val_loader, device, class_names)"
   ]
  },
  {
   "cell_type": "code",
   "execution_count": null,
   "id": "inside-backup",
   "metadata": {
    "scrolled": true
   },
   "outputs": [],
   "source": [
    "test_labels, test_probs = eval(model, test_loader, device,\n",
    "                               class_names, fname=\"../reports/figures/dgcnn_confusion.png\")"
   ]
  },
  {
   "cell_type": "code",
   "execution_count": null,
   "id": "yellow-oxide",
   "metadata": {},
   "outputs": [],
   "source": [
    "np.savez(\"DGCNNProbs.npz\", labels=test_labels, probs=test_probs)"
   ]
  },
  {
   "cell_type": "code",
   "execution_count": null,
   "id": "spatial-assurance",
   "metadata": {},
   "outputs": [],
   "source": [
    "test_predictions = np.argmax(test_probs, axis=1)\n",
    "wrong_predictions = np.where(test_labels != test_predictions)[0]"
   ]
  },
  {
   "cell_type": "code",
   "execution_count": null,
   "id": "neutral-syndicate",
   "metadata": {},
   "outputs": [],
   "source": [
    "wrong_pred_dir = Path(\"../data/external/DGCNN/wrong_classes/IFCNetCore\")\n",
    "raw_data_dict = {path.stem: path for path in Path(\"../data/raw/IFCNetCore\").glob(\"**/test/*.obj\")}\n",
    "wrong_pred_dir.mkdir(parents=True, exist_ok=True)\n",
    "for i in wrong_predictions:\n",
    "    label_str = class_names[test_labels[i]]\n",
    "    prediction_str = class_names[test_predictions[i]]\n",
    "    print(f\"{test_dataset.files[i].stem}, Label: {label_str}, Prediction: {prediction_str}\")\n",
    "    target_dir = wrong_pred_dir / label_str\n",
    "    target_dir.mkdir(exist_ok=True)\n",
    "    filename = test_dataset.files[i]\n",
    "    shutil.copy(str(raw_data_dict[filename.stem]), str(target_dir / f\"{filename.stem}_{prediction_str}.obj\"))"
   ]
  },
  {
   "cell_type": "code",
   "execution_count": null,
   "id": "changed-morning",
   "metadata": {},
   "outputs": [],
   "source": []
  }
 ],
 "metadata": {
  "kernelspec": {
   "display_name": "Python 3",
   "language": "python",
   "name": "python3"
  },
  "language_info": {
   "codemirror_mode": {
    "name": "ipython",
    "version": 3
   },
   "file_extension": ".py",
   "mimetype": "text/x-python",
   "name": "python",
   "nbconvert_exporter": "python",
   "pygments_lexer": "ipython3",
   "version": "3.8.10"
  }
 },
 "nbformat": 4,
 "nbformat_minor": 5
}
