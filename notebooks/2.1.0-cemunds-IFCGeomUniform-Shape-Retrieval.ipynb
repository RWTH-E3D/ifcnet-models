{
 "cells": [
  {
   "cell_type": "code",
   "execution_count": 1,
   "id": "wicked-proposal",
   "metadata": {},
   "outputs": [],
   "source": [
    "%reload_ext autoreload\n",
    "%autoreload 2\n",
    "%matplotlib inline"
   ]
  },
  {
   "cell_type": "code",
   "execution_count": 2,
   "id": "secret-policy",
   "metadata": {},
   "outputs": [],
   "source": [
    "import shutil\n",
    "import numpy as np\n",
    "import pandas as pd\n",
    "from pathlib import Path\n",
    "import json\n",
    "import torch\n",
    "from ray.tune import Analysis\n",
    "from tqdm import tqdm\n",
    "import matplotlib.pyplot as plt\n",
    "import matplotlib.cm as cm\n",
    "import seaborn as sn\n",
    "from src.data import IFCNetPlySparse\n",
    "from src.models.models import MinkowskiFCNN, MinkowskiCE2\n",
    "from torch.utils.data import DataLoader, Subset, Dataset\n",
    "import torch.nn.functional as F\n",
    "import sklearn.metrics as metrics\n",
    "from sklearn.decomposition import PCA\n",
    "from sklearn.manifold import TSNE\n",
    "import torch.nn as nn\n",
    "import MinkowskiEngine as ME\n",
    "from sklearn.preprocessing import label_binarize"
   ]
  },
  {
   "cell_type": "code",
   "execution_count": 3,
   "id": "eligible-maine",
   "metadata": {},
   "outputs": [],
   "source": [
    "data_root = Path(\"../data/processed/IFCGeomUniform/IFCNetCore\")\n",
    "\n",
    "with open(\"../IFCNetCore_Classes.json\", \"r\") as f:\n",
    "    class_names = json.load(f)"
   ]
  },
  {
   "cell_type": "code",
   "execution_count": 4,
   "id": "occasional-values",
   "metadata": {},
   "outputs": [],
   "source": [
    "train_dataset = IFCNetPlySparse(data_root, class_names, partition=\"train\")\n",
    "val_dataset = IFCNetPlySparse(data_root, class_names, partition=\"train\")\n",
    "test_dataset = IFCNetPlySparse(data_root, class_names, partition=\"test\")\n",
    "\n",
    "np.random.seed(42)\n",
    "perm = np.random.permutation(range(len(train_dataset)))\n",
    "train_len = int(0.7 * len(train_dataset))\n",
    "train_dataset = Subset(train_dataset, sorted(perm[:train_len]))\n",
    "val_dataset = Subset(val_dataset, sorted(perm[train_len:]))\n",
    "\n",
    "train_loader = DataLoader(train_dataset, batch_size=32, num_workers=8, collate_fn=ME.utils.SparseCollation())\n",
    "val_loader = DataLoader(val_dataset, batch_size=32, num_workers=8, collate_fn=ME.utils.SparseCollation())\n",
    "test_loader = DataLoader(test_dataset, batch_size=32, num_workers=8, collate_fn=ME.utils.SparseCollation())"
   ]
  },
  {
   "cell_type": "code",
   "execution_count": 5,
   "id": "9a503730",
   "metadata": {},
   "outputs": [
    {
     "data": {
      "text/plain": [
       "<All keys matched successfully>"
      ]
     },
     "execution_count": 5,
     "metadata": {},
     "output_type": "execute_result"
    }
   ],
   "source": [
    "log_dir = Path(\"../logs/IFCGeomUniform/DEFAULT_2021-09-14_15-43-44/\")\n",
    "analysis = Analysis(log_dir, default_metric=\"val_balanced_accuracy_score\", default_mode=\"max\")\n",
    "best_trial_dir = Path(analysis.get_best_logdir())\n",
    "\n",
    "with (best_trial_dir/\"params.json\").open(\"r\") as f:\n",
    "    config = json.load(f)\n",
    "\n",
    "model = MinkowskiCE2(3, len(class_names), config[\"embedding_dim\"], return_feats=True)\n",
    "model_state, _ = torch.load(best_trial_dir/\"checkpoint_249\"/\"checkpoint\")\n",
    "model.load_state_dict(model_state)"
   ]
  },
  {
   "cell_type": "code",
   "execution_count": 6,
   "id": "checked-magnitude",
   "metadata": {},
   "outputs": [
    {
     "data": {
      "text/plain": [
       "MinkowskiCE2(\n",
       "  (mlp1): Sequential(\n",
       "    (0): MinkowskiLinear(in_features=3, out_features=16, bias=False)\n",
       "    (1): MinkowskiBatchNorm(16, eps=1e-05, momentum=0.1, affine=True, track_running_stats=True)\n",
       "    (2): MinkowskiLeakyReLU()\n",
       "  )\n",
       "  (conv1): Sequential(\n",
       "    (0): MinkowskiConvolution(in=16, out=32, kernel_size=[3, 3, 3], stride=[1, 1, 1], dilation=[1, 1, 1])\n",
       "    (1): MinkowskiBatchNorm(32, eps=1e-05, momentum=0.1, affine=True, track_running_stats=True)\n",
       "    (2): MinkowskiLeakyReLU()\n",
       "  )\n",
       "  (down1): Sequential(\n",
       "    (0): MinkowskiConvolution(in=48, out=32, kernel_size=[1, 1, 1], stride=[1, 1, 1], dilation=[1, 1, 1])\n",
       "    (1): MinkowskiBatchNorm(32, eps=1e-05, momentum=0.1, affine=True, track_running_stats=True)\n",
       "    (2): MinkowskiLeakyReLU()\n",
       "  )\n",
       "  (conv2): Sequential(\n",
       "    (0): MinkowskiConvolution(in=32, out=48, kernel_size=[3, 3, 3], stride=[1, 1, 1], dilation=[1, 1, 1])\n",
       "    (1): MinkowskiBatchNorm(48, eps=1e-05, momentum=0.1, affine=True, track_running_stats=True)\n",
       "    (2): MinkowskiLeakyReLU()\n",
       "  )\n",
       "  (down2): Sequential(\n",
       "    (0): MinkowskiConvolution(in=80, out=48, kernel_size=[1, 1, 1], stride=[1, 1, 1], dilation=[1, 1, 1])\n",
       "    (1): MinkowskiBatchNorm(48, eps=1e-05, momentum=0.1, affine=True, track_running_stats=True)\n",
       "    (2): MinkowskiLeakyReLU()\n",
       "  )\n",
       "  (conv3): Sequential(\n",
       "    (0): MinkowskiConvolution(in=48, out=96, kernel_size=[3, 3, 3], stride=[1, 1, 1], dilation=[1, 1, 1])\n",
       "    (1): MinkowskiBatchNorm(96, eps=1e-05, momentum=0.1, affine=True, track_running_stats=True)\n",
       "    (2): MinkowskiLeakyReLU()\n",
       "  )\n",
       "  (down3): Sequential(\n",
       "    (0): MinkowskiConvolution(in=144, out=96, kernel_size=[1, 1, 1], stride=[1, 1, 1], dilation=[1, 1, 1])\n",
       "    (1): MinkowskiBatchNorm(96, eps=1e-05, momentum=0.1, affine=True, track_running_stats=True)\n",
       "    (2): MinkowskiLeakyReLU()\n",
       "  )\n",
       "  (conv4): Sequential(\n",
       "    (0): MinkowskiConvolution(in=96, out=128, kernel_size=[3, 3, 3], stride=[1, 1, 1], dilation=[1, 1, 1])\n",
       "    (1): MinkowskiBatchNorm(128, eps=1e-05, momentum=0.1, affine=True, track_running_stats=True)\n",
       "    (2): MinkowskiLeakyReLU()\n",
       "  )\n",
       "  (down4): Sequential(\n",
       "    (0): MinkowskiConvolution(in=224, out=128, kernel_size=[1, 1, 1], stride=[1, 1, 1], dilation=[1, 1, 1])\n",
       "    (1): MinkowskiBatchNorm(128, eps=1e-05, momentum=0.1, affine=True, track_running_stats=True)\n",
       "    (2): MinkowskiLeakyReLU()\n",
       "  )\n",
       "  (conv5): Sequential(\n",
       "    (0): MinkowskiConvolution(in=128, out=256, kernel_size=[3, 3, 3], stride=[1, 1, 1], dilation=[1, 1, 1])\n",
       "    (1): MinkowskiBatchNorm(256, eps=1e-05, momentum=0.1, affine=True, track_running_stats=True)\n",
       "    (2): MinkowskiLeakyReLU()\n",
       "  )\n",
       "  (down5): Sequential(\n",
       "    (0): MinkowskiConvolution(in=384, out=256, kernel_size=[1, 1, 1], stride=[1, 1, 1], dilation=[1, 1, 1])\n",
       "    (1): MinkowskiBatchNorm(256, eps=1e-05, momentum=0.1, affine=True, track_running_stats=True)\n",
       "    (2): MinkowskiLeakyReLU()\n",
       "  )\n",
       "  (conv6): Sequential(\n",
       "    (0): MinkowskiConvolution(in=256, out=512, kernel_size=[3, 3, 3], stride=[1, 1, 1], dilation=[1, 1, 1])\n",
       "    (1): MinkowskiBatchNorm(512, eps=1e-05, momentum=0.1, affine=True, track_running_stats=True)\n",
       "    (2): MinkowskiLeakyReLU()\n",
       "  )\n",
       "  (pool): MinkowskiMaxPooling(kernel_size=[3, 3, 3], stride=[2, 2, 2], dilation=[1, 1, 1])\n",
       "  (global_max_pool): MinkowskiGlobalMaxPooling(mode=PoolingMode.GLOBAL_MAX_POOLING_PYTORCH_INDEX)\n",
       "  (global_avg_pool): MinkowskiGlobalAvgPooling(mode=PoolingMode.GLOBAL_AVG_POOLING_PYTORCH_INDEX)\n",
       "  (final): Sequential(\n",
       "    (0): Sequential(\n",
       "      (0): MinkowskiLinear(in_features=1024, out_features=512, bias=False)\n",
       "      (1): MinkowskiBatchNorm(512, eps=1e-05, momentum=0.1, affine=True, track_running_stats=True)\n",
       "      (2): MinkowskiLeakyReLU()\n",
       "    )\n",
       "    (1): MinkowskiDropout()\n",
       "    (2): Sequential(\n",
       "      (0): MinkowskiLinear(in_features=512, out_features=256, bias=False)\n",
       "      (1): MinkowskiBatchNorm(256, eps=1e-05, momentum=0.1, affine=True, track_running_stats=True)\n",
       "      (2): MinkowskiLeakyReLU()\n",
       "    )\n",
       "    (3): MinkowskiDropout()\n",
       "    (4): MinkowskiLinear(in_features=256, out_features=20, bias=True)\n",
       "  )\n",
       ")"
      ]
     },
     "execution_count": 6,
     "metadata": {},
     "output_type": "execute_result"
    }
   ],
   "source": [
    "device = torch.device(\"cuda\")\n",
    "model.eval()\n",
    "model.to(device)"
   ]
  },
  {
   "cell_type": "code",
   "execution_count": 7,
   "id": "amateur-plasma",
   "metadata": {},
   "outputs": [],
   "source": [
    "def calc_metrics(probabilities, labels):\n",
    "    predictions = np.argmax(probabilities, axis=1)\n",
    "\n",
    "    acc = metrics.accuracy_score(labels, predictions)\n",
    "    balanced_acc = metrics.balanced_accuracy_score(labels, predictions)\n",
    "    precision = metrics.precision_score(labels, predictions, average=\"weighted\")\n",
    "    recall = metrics.recall_score(labels, predictions, average=\"weighted\")\n",
    "    f1 = metrics.f1_score(labels, predictions, average=\"weighted\")\n",
    "\n",
    "    return {\n",
    "        f\"accuracy_score\": acc,\n",
    "        f\"balanced_accuracy_score\": balanced_acc,\n",
    "        f\"precision_score\": precision,\n",
    "        f\"recall_score\": recall,\n",
    "        f\"f1_score\": f1\n",
    "    }\n",
    "\n",
    "def plot_confusion_matrix(confusion_matrix, display_labels, fname=None):\n",
    "    labels = list(map(lambda x: x[3:], display_labels))\n",
    "    df = pd.DataFrame(confusion_matrix, index=labels, columns=labels)\n",
    "    plt.figure(figsize=(7, 5))\n",
    "    heatmap = sn.heatmap(df, cmap=\"Blues\", annot=True, fmt=\"d\", cbar=False)\n",
    "    plt.ylabel(\"Actual class\")\n",
    "    plt.xlabel(\"Predicted class\")\n",
    "    if fname:\n",
    "        plt.savefig(fname, dpi=300, bbox_inches=\"tight\")\n",
    "\n",
    "def eval(model, loader, device, class_names, fname=None):\n",
    "    model.eval()\n",
    "    all_probs = []\n",
    "    all_labels = []\n",
    "    all_embeddings = []\n",
    "\n",
    "    with torch.no_grad():\n",
    "        for coords, feats, labels in tqdm(loader):\n",
    "            labels = torch.tensor(labels)\n",
    "                \n",
    "            coords, feats, labels = coords.to(device), feats.to(device), labels.to(device)\n",
    "            tensor = ME.TensorField(feats, coords)\n",
    "\n",
    "            outputs, embeddings = model(tensor)\n",
    "\n",
    "            probs = F.softmax(outputs, dim=1)\n",
    "            all_probs.append(probs.cpu().detach().numpy())\n",
    "            all_labels.append(labels.cpu().numpy())\n",
    "            all_embeddings.append(embeddings.cpu().detach().numpy())\n",
    "\n",
    "    all_probs = np.concatenate(all_probs)\n",
    "    all_labels = np.concatenate(all_labels)\n",
    "    all_embeddings = np.concatenate(all_embeddings)\n",
    "    result = calc_metrics(all_probs, all_labels)\n",
    "    print(result)\n",
    "    #predictions = np.argmax(all_probs, axis=1)\n",
    "    #confusion_matrix = metrics.confusion_matrix(all_labels, predictions)\n",
    "    #plot_confusion_matrix(confusion_matrix, class_names, fname=fname)\n",
    "    return all_labels, all_probs, all_embeddings"
   ]
  },
  {
   "cell_type": "code",
   "execution_count": 8,
   "id": "monthly-operations",
   "metadata": {},
   "outputs": [
    {
     "name": "stderr",
     "output_type": "stream",
     "text": [
      "100%|██████████| 122/122 [00:09<00:00, 13.48it/s]"
     ]
    },
    {
     "name": "stdout",
     "output_type": "stream",
     "text": [
      "{'accuracy_score': 0.8638352638352639, 'balanced_accuracy_score': 0.8896489815672648, 'precision_score': 0.8732273540778082, 'recall_score': 0.8638352638352639, 'f1_score': 0.8659119733940998}\n"
     ]
    },
    {
     "name": "stderr",
     "output_type": "stream",
     "text": [
      "\n"
     ]
    }
   ],
   "source": [
    "eval(model, train_loader, device, class_names);"
   ]
  },
  {
   "cell_type": "code",
   "execution_count": 9,
   "id": "later-trustee",
   "metadata": {},
   "outputs": [
    {
     "name": "stderr",
     "output_type": "stream",
     "text": [
      "100%|██████████| 53/53 [00:04<00:00, 12.56it/s]"
     ]
    },
    {
     "name": "stdout",
     "output_type": "stream",
     "text": [
      "{'accuracy_score': 0.8541416566626651, 'balanced_accuracy_score': 0.8874579508265283, 'precision_score': 0.8638745390365841, 'recall_score': 0.8541416566626651, 'f1_score': 0.8554920663787808}\n"
     ]
    },
    {
     "name": "stderr",
     "output_type": "stream",
     "text": [
      "\n"
     ]
    }
   ],
   "source": [
    "eval(model, val_loader, device, class_names);"
   ]
  },
  {
   "cell_type": "code",
   "execution_count": 8,
   "id": "inside-backup",
   "metadata": {
    "scrolled": true
   },
   "outputs": [
    {
     "name": "stderr",
     "output_type": "stream",
     "text": [
      "100%|██████████| 75/75 [00:05<00:00, 13.07it/s]"
     ]
    },
    {
     "name": "stdout",
     "output_type": "stream",
     "text": [
      "{'accuracy_score': 0.8158890290037831, 'balanced_accuracy_score': 0.8301606935099011, 'precision_score': 0.8277658055034153, 'recall_score': 0.8158890290037831, 'f1_score': 0.817962167707173}\n"
     ]
    },
    {
     "name": "stderr",
     "output_type": "stream",
     "text": [
      "\n"
     ]
    }
   ],
   "source": [
    "test_labels, test_probs, test_embeddings = eval(model, test_loader, device, class_names)"
   ]
  },
  {
   "cell_type": "markdown",
   "id": "aefbffe6",
   "metadata": {},
   "source": [
    "s3dis_to_ifcnet = {\n",
    "    \"chair\": class_names.index(\"IfcFurniture\"),\n",
    "    \"table\": class_names.index(\"IfcFurniture\"),\n",
    "    \"door\": class_names.index(\"IfcDoor\"),\n",
    "    \"bookcase\": class_names.index(\"IfcFurniture\"),\n",
    "    \"sofa\": class_names.index(\"IfcFurniture\")\n",
    "}"
   ]
  },
  {
   "cell_type": "markdown",
   "id": "d4f68dd3",
   "metadata": {},
   "source": [
    "class PointCloudTxtSparse(Dataset):\n",
    "\n",
    "    def __init__(self, files, label_map, quantization_size=0.01, transform=None):\n",
    "        self.transform = transform\n",
    "        self.files = files\n",
    "        self.quantization_size = quantization_size\n",
    "\n",
    "        self.data = []\n",
    "        self.labels = []\n",
    "        \n",
    "        for f in self.files:\n",
    "            self.data.append(np.loadtxt(f, dtype=np.float32)[:, :3])\n",
    "            self.labels.append(label_map[f.stem.split(\"_\")[0]])\n",
    "\n",
    "    def __getitem__(self, idx):\n",
    "        pointcloud = self.data[idx]\n",
    "        label = self.labels[idx]\n",
    "        \n",
    "        pointcloud = np.ascontiguousarray(pointcloud)\n",
    "        pointcloud -= np.mean(pointcloud, axis=0)\n",
    "\n",
    "        if self.transform:\n",
    "            pointcloud = self.transform(pointcloud)\n",
    "            \n",
    "        coords = pointcloud / self.quantization_size\n",
    "        feats = pointcloud\n",
    "        \n",
    "        # normalize\n",
    "        max_len = np.max(np.sum(feats**2, axis=1))\n",
    "        feats /= np.sqrt(max_len)\n",
    "\n",
    "        return coords, feats, label\n",
    "\n",
    "    def __len__(self):\n",
    "        return len(self.data)"
   ]
  },
  {
   "cell_type": "markdown",
   "id": "916f5283",
   "metadata": {},
   "source": [
    "files = sorted(Path(\"/home/ce/ShapeRetrieval/S3DIS/\").glob(\"**/**/*.txt\"))\n",
    "s3dis = PointCloudTxtSparse(files, s3dis_to_ifcnet)"
   ]
  },
  {
   "cell_type": "markdown",
   "id": "aa850f90",
   "metadata": {},
   "source": [
    "s3dis_loader = DataLoader(s3dis, batch_size=16, num_workers=8, collate_fn=ME.utils.SparseCollation())"
   ]
  },
  {
   "cell_type": "markdown",
   "id": "818d5bf8",
   "metadata": {},
   "source": [
    "s3dis_labels, s3dis_probs, s3dis_embeddings = eval(model, s3dis_loader, device, class_names)"
   ]
  },
  {
   "cell_type": "code",
   "execution_count": 1,
   "id": "f68e039d",
   "metadata": {},
   "outputs": [],
   "source": [
    "from sklearn.neighbors import NearestNeighbors"
   ]
  },
  {
   "cell_type": "markdown",
   "id": "242f4de5",
   "metadata": {},
   "source": [
    "nbrs = NearestNeighbors(n_neighbors=1, algorithm='ball_tree').fit(test_embeddings)\n",
    "distances, indices = nbrs.kneighbors(s3dis_embeddings)"
   ]
  },
  {
   "cell_type": "markdown",
   "id": "986d3085",
   "metadata": {},
   "source": [
    "most_similar_files = np.array(test_dataset.files)[indices.flatten()]"
   ]
  },
  {
   "cell_type": "markdown",
   "id": "c98fd665",
   "metadata": {},
   "source": [
    "export_path = Path(\"/home/ce/ifcnet-models/data/external/S3DISSimilarity\")\n",
    "export_path.mkdir(parents=True, exist_ok=True)\n",
    "for i, f in enumerate(files):\n",
    "    p = export_path / f.parts[-3] / f.parts[-2] / f.stem\n",
    "    p.mkdir(parents=True, exist_ok=True)\n",
    "    shutil.copy(most_similar_files[i], p)"
   ]
  },
  {
   "cell_type": "code",
   "execution_count": 12,
   "id": "6c4e3649",
   "metadata": {},
   "outputs": [],
   "source": [
    "nbrs = NearestNeighbors(n_neighbors=7, algorithm='ball_tree').fit(test_embeddings)\n",
    "distances, indices = nbrs.kneighbors(test_embeddings)"
   ]
  },
  {
   "cell_type": "code",
   "execution_count": 13,
   "id": "7202a357",
   "metadata": {},
   "outputs": [],
   "source": [
    "most_similar_files = np.array(test_dataset.files)[indices[:, 1:]]\n",
    "export_path = Path(\"/home/ce/ifcnet-models/data/external/IFCGeomUniformSimilarity\")\n",
    "export_path.mkdir(parents=True, exist_ok=True)\n",
    "for i, f in enumerate(test_dataset.files):\n",
    "    p = export_path / f.parts[-3] / f.stem\n",
    "    p.mkdir(parents=True, exist_ok=True)\n",
    "    for k, sim in enumerate(most_similar_files[i]):\n",
    "        shutil.copy(sim, p/f\"{k}_{sim.parts[-3]}.ply\")"
   ]
  },
  {
   "cell_type": "code",
   "execution_count": 17,
   "id": "6bff76fc",
   "metadata": {},
   "outputs": [],
   "source": [
    "pca = PCA(n_components=50, random_state=31).fit_transform(test_embeddings)"
   ]
  },
  {
   "cell_type": "code",
   "execution_count": 18,
   "id": "452e237f",
   "metadata": {},
   "outputs": [],
   "source": [
    "embedded = TSNE(n_components=2, random_state=45).fit_transform(pca)"
   ]
  },
  {
   "cell_type": "code",
   "execution_count": 20,
   "id": "2dcc21eb",
   "metadata": {},
   "outputs": [
    {
     "data": {
      "image/png": "[encoded data removed]",
      "text/plain": [
       "<Figure size 1080x1080 with 1 Axes>"
      ]
     },
     "metadata": {},
     "output_type": "display_data"
    }
   ],
   "source": [
    "test_predictions = np.argmax(test_probs, axis=1)\n",
    "colors = [\"#696969\", \"#a52a2a\", \"#2e8b57\", \"#191970\", \"#808000\", \"#ff0000\",\n",
    "         \"#ff8c00\", \"#ffd700\", \"#7cfc00\", \"#ba55d3\", \"#00ffff\", \"#0000ff\",\n",
    "         \"#ff00ff\", \"#1e90ff\", \"#eee8aa\", \"#dda0dd\", \"#ff1493\", \"#ffa07a\",\n",
    "         \"#98fb98\", \"#87cefa\"]\n",
    "plt.figure(figsize=(15, 15))\n",
    "plt.tick_params(left=False,\n",
    "                bottom=False,\n",
    "                labelleft=False,\n",
    "                labelbottom=False)\n",
    "for i, cn in enumerate(class_names):\n",
    "    points = embedded[test_predictions==i]\n",
    "    cluster_center = points.mean(axis=0)\n",
    "    plt.scatter(points[:, 0], points[:, 1], color=colors[i])\n",
    "    #plt.text(cluster_center[0]-5, cluster_center[1], cn)\n",
    "#plt.legend(class_names)"
   ]
  },
  {
   "cell_type": "code",
   "execution_count": null,
   "id": "43850372",
   "metadata": {},
   "outputs": [],
   "source": []
  }
 ],
 "metadata": {
  "kernelspec": {
   "display_name": "Python 3",
   "language": "python",
   "name": "python3"
  },
  "language_info": {
   "codemirror_mode": {
    "name": "ipython",
    "version": 3
   },
   "file_extension": ".py",
   "mimetype": "text/x-python",
   "name": "python",
   "nbconvert_exporter": "python",
   "pygments_lexer": "ipython3",
   "version": "3.8.10"
  }
 },
 "nbformat": 4,
 "nbformat_minor": 5
}
