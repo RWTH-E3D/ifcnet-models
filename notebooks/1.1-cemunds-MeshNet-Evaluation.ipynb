{
 "cells": [
  {
   "cell_type": "code",
   "execution_count": null,
   "id": "wicked-proposal",
   "metadata": {},
   "outputs": [],
   "source": [
    "%reload_ext autoreload\n",
    "%autoreload 2\n",
    "%matplotlib inline"
   ]
  },
  {
   "cell_type": "code",
   "execution_count": null,
   "id": "secret-policy",
   "metadata": {},
   "outputs": [],
   "source": [
    "import shutil\n",
    "import numpy as np\n",
    "import pandas as pd\n",
    "from pathlib import Path\n",
    "import json\n",
    "import torch\n",
    "from tqdm import tqdm\n",
    "import matplotlib.pyplot as plt\n",
    "import seaborn as sn\n",
    "from src.data import IFCNetNumpy\n",
    "from src.models.models import MeshNet\n",
    "from torch.utils.data import DataLoader, Subset, Dataset\n",
    "import torch.nn.functional as F\n",
    "import sklearn.metrics as metrics\n",
    "import torch.nn as nn\n",
    "from sklearn.preprocessing import label_binarize"
   ]
  },
  {
   "cell_type": "code",
   "execution_count": null,
   "id": "eligible-maine",
   "metadata": {},
   "outputs": [],
   "source": [
    "data_root = Path(\"../data/processed/MeshNet/IFCNetCore\")\n",
    "\n",
    "with open(\"../IFCNetCore_Classes.json\", \"r\") as f:\n",
    "    class_names = json.load(f)"
   ]
  },
  {
   "cell_type": "code",
   "execution_count": null,
   "id": "occasional-values",
   "metadata": {},
   "outputs": [],
   "source": [
    "train_dataset = IFCNetNumpy(data_root, 2048, class_names, partition=\"train\")\n",
    "val_dataset = IFCNetNumpy(data_root, 2048, class_names, partition=\"train\")\n",
    "test_dataset = IFCNetNumpy(data_root, 2048, class_names, partition=\"test\")\n",
    "\n",
    "np.random.seed(42)\n",
    "perm = np.random.permutation(range(len(train_dataset)))\n",
    "train_len = int(0.7 * len(train_dataset))\n",
    "train_dataset = Subset(train_dataset, sorted(perm[:train_len]))\n",
    "val_dataset = Subset(val_dataset, sorted(perm[train_len:]))\n",
    "\n",
    "train_loader = DataLoader(train_dataset, batch_size=32, num_workers=8)\n",
    "val_loader = DataLoader(val_dataset, batch_size=32, num_workers=8)\n",
    "test_loader = DataLoader(test_dataset, batch_size=32, num_workers=8)"
   ]
  },
  {
   "cell_type": "code",
   "execution_count": null,
   "id": "buried-spectrum",
   "metadata": {},
   "outputs": [],
   "source": [
    "model_dir = Path(\"../models/\")\n",
    "with (model_dir/\"MeshNetParams.json\").open(\"r\") as f:\n",
    "    config = json.load(f)\n",
    "\n",
    "model = MeshNet(config[\"num_kernel\"], config[\"sigma\"], config[\"aggregation_method\"], output_channels=len(class_names))\n",
    "model_state, _ = torch.load(model_dir/\"MeshNetWeights+Optimizer\")\n",
    "model.load_state_dict(model_state)"
   ]
  },
  {
   "cell_type": "code",
   "execution_count": null,
   "id": "checked-magnitude",
   "metadata": {},
   "outputs": [],
   "source": [
    "device = torch.device(\"cuda\")\n",
    "model.eval()\n",
    "model.to(device)"
   ]
  },
  {
   "cell_type": "code",
   "execution_count": null,
   "id": "amateur-plasma",
   "metadata": {},
   "outputs": [],
   "source": [
    "def calc_metrics(probabilities, labels):\n",
    "    predictions = np.argmax(probabilities, axis=1)\n",
    "\n",
    "    acc = metrics.accuracy_score(labels, predictions)\n",
    "    balanced_acc = metrics.balanced_accuracy_score(labels, predictions)\n",
    "    precision = metrics.precision_score(labels, predictions, average=\"weighted\")\n",
    "    recall = metrics.recall_score(labels, predictions, average=\"weighted\")\n",
    "    f1 = metrics.f1_score(labels, predictions, average=\"weighted\")\n",
    "\n",
    "    return {\n",
    "        f\"accuracy_score\": acc,\n",
    "        f\"balanced_accuracy_score\": balanced_acc,\n",
    "        f\"precision_score\": precision,\n",
    "        f\"recall_score\": recall,\n",
    "        f\"f1_score\": f1\n",
    "    }\n",
    "\n",
    "def plot_confusion_matrix(confusion_matrix, display_labels, fname=None):\n",
    "    labels = list(map(lambda x: x[3:], display_labels))\n",
    "    df = pd.DataFrame(confusion_matrix, index=labels, columns=labels)\n",
    "    plt.figure(figsize=(7, 5))\n",
    "    sn.heatmap(df, cmap=\"Blues\", annot=True, fmt=\"d\", cbar=False)\n",
    "    plt.ylabel(\"Actual class\")\n",
    "    plt.xlabel(\"Predicted class\")\n",
    "    if fname:\n",
    "        plt.savefig(fname, dpi=300, bbox_inches=\"tight\")\n",
    "\n",
    "def eval(model, loader, device, class_names, fname=None):\n",
    "    model.eval()\n",
    "    all_probs = []\n",
    "    all_labels = []\n",
    "\n",
    "    with torch.no_grad():\n",
    "        for data, labels in tqdm(loader):\n",
    "            data, labels = data.to(device), labels.to(device)\n",
    "\n",
    "            outputs = model(data)\n",
    "\n",
    "            probs = F.softmax(outputs, dim=1)\n",
    "            all_probs.append(probs.cpu().detach().numpy())\n",
    "            all_labels.append(labels.cpu().numpy())\n",
    "\n",
    "    all_probs = np.concatenate(all_probs)\n",
    "    all_labels = np.concatenate(all_labels)\n",
    "    result = calc_metrics(all_probs, all_labels)\n",
    "    predictions = np.argmax(all_probs, axis=1)\n",
    "    confusion_matrix = metrics.confusion_matrix(all_labels, predictions)\n",
    "    plot_confusion_matrix(confusion_matrix, class_names, fname=fname)\n",
    "    return all_labels, all_probs"
   ]
  },
  {
   "cell_type": "code",
   "execution_count": null,
   "id": "monthly-operations",
   "metadata": {},
   "outputs": [],
   "source": [
    "eval(model, train_loader, device, class_names)"
   ]
  },
  {
   "cell_type": "code",
   "execution_count": null,
   "id": "later-trustee",
   "metadata": {
    "scrolled": true
   },
   "outputs": [],
   "source": [
    "eval(model, val_loader, device, class_names)"
   ]
  },
  {
   "cell_type": "code",
   "execution_count": null,
   "id": "inside-backup",
   "metadata": {
    "scrolled": true
   },
   "outputs": [],
   "source": [
    "test_labels, test_probs = eval(model, test_loader, device,\n",
    "                               class_names, fname=\"../reports/figures/meshnet_confusion.png\")"
   ]
  },
  {
   "cell_type": "code",
   "execution_count": null,
   "id": "yellow-oxide",
   "metadata": {},
   "outputs": [],
   "source": [
    "np.savez(\"MeshNetProbs.npz\", labels=test_labels, probs=test_probs)"
   ]
  },
  {
   "cell_type": "code",
   "execution_count": null,
   "id": "neural-canvas",
   "metadata": {},
   "outputs": [],
   "source": [
    "test_predictions = np.argmax(test_probs, axis=1)\n",
    "wrong_predictions = np.where(test_labels != test_predictions)[0]"
   ]
  },
  {
   "cell_type": "code",
   "execution_count": null,
   "id": "automotive-action",
   "metadata": {},
   "outputs": [],
   "source": [
    "wrong_pred_dir = Path(\"../data/external/MeshNet/wrong_classes/IFCNetCore\")\n",
    "raw_data_dict = {path.stem: path for path in Path(\"../data/raw/IFCNetCore\").glob(\"**/test/*.obj\")}\n",
    "wrong_pred_dir.mkdir(parents=True, exist_ok=True)\n",
    "for i in wrong_predictions:\n",
    "    label_str = class_names[test_labels[i]]\n",
    "    prediction_str = class_names[test_predictions[i]]\n",
    "    print(f\"{test_dataset.files[i].stem}, Label: {label_str}, Prediction: {prediction_str}\")\n",
    "    target_dir = wrong_pred_dir / label_str\n",
    "    target_dir.mkdir(exist_ok=True)\n",
    "    filename = test_dataset.files[i]\n",
    "    shutil.copy(str(raw_data_dict[filename.stem]), str(target_dir / f\"{filename.stem}_{prediction_str}.obj\"))"
   ]
  },
  {
   "cell_type": "code",
   "execution_count": null,
   "id": "fiscal-motion",
   "metadata": {},
   "outputs": [],
   "source": []
  }
 ],
 "metadata": {
  "kernelspec": {
   "display_name": "Python 3",
   "language": "python",
   "name": "python3"
  },
  "language_info": {
   "codemirror_mode": {
    "name": "ipython",
    "version": 3
   },
   "file_extension": ".py",
   "mimetype": "text/x-python",
   "name": "python",
   "nbconvert_exporter": "python",
   "pygments_lexer": "ipython3",
   "version": "3.8.10"
  }
 },
 "nbformat": 4,
 "nbformat_minor": 5
}
