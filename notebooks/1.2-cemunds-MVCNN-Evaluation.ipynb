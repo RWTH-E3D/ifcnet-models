{
 "cells": [
  {
   "cell_type": "code",
   "execution_count": 1,
   "id": "wicked-proposal",
   "metadata": {},
   "outputs": [],
   "source": [
    "%reload_ext autoreload\n",
    "%autoreload 2\n",
    "%matplotlib inline"
   ]
  },
  {
   "cell_type": "code",
   "execution_count": 2,
   "id": "secret-policy",
   "metadata": {},
   "outputs": [],
   "source": [
    "import shutil\n",
    "import numpy as np\n",
    "import pandas as pd\n",
    "from pathlib import Path\n",
    "import json\n",
    "import torch\n",
    "from tqdm import tqdm\n",
    "import matplotlib.pyplot as plt\n",
    "import seaborn as sn\n",
    "from src.data import MultiviewImgDataset, IFCNetPly, IFCNetNumpy\n",
    "from src.models.models import MVCNN, SVCNN, DGCNN, MeshNet\n",
    "from torch.utils.data import DataLoader, Subset\n",
    "from torchvision.transforms import transforms\n",
    "import torch.nn.functional as F\n",
    "import sklearn.metrics as metrics\n",
    "from sklearn.preprocessing import label_binarize"
   ]
  },
  {
   "cell_type": "code",
   "execution_count": 3,
   "id": "eligible-maine",
   "metadata": {},
   "outputs": [],
   "source": [
    "data_root = Path(\"../data/processed/MVCNN/IFCNetCore\")\n",
    "max_batch_size = 31\n",
    "\n",
    "with open(\"../IFCNetCore_Classes.json\", \"r\") as f:\n",
    "    class_names = json.load(f)"
   ]
  },
  {
   "cell_type": "code",
   "execution_count": 4,
   "id": "occasional-values",
   "metadata": {},
   "outputs": [],
   "source": [
    "transform = [\n",
    "    transforms.ToTensor(),\n",
    "    transforms.Normalize(mean=[0.485, 0.456, 0.406], std=[0.229, 0.224, 0.225])\n",
    "]\n",
    "transform = transforms.Compose(transform)\n",
    "\n",
    "train_dataset = MultiviewImgDataset(data_root, class_names, 12, partition=\"train\", transform=transform)\n",
    "val_dataset = MultiviewImgDataset(data_root, class_names, 12, partition=\"train\", transform=transform)\n",
    "test_dataset = MultiviewImgDataset(data_root, class_names,12, partition=\"test\", transform=transform)\n",
    "\n",
    "np.random.seed(42)\n",
    "perm = np.random.permutation(range(len(train_dataset)))\n",
    "train_len = int(0.7 * len(train_dataset))\n",
    "train_dataset = Subset(train_dataset, perm[:train_len])\n",
    "val_dataset = Subset(val_dataset, perm[train_len:])\n",
    "\n",
    "train_loader = DataLoader(train_dataset, batch_size=1, shuffle=True, num_workers=8)\n",
    "val_loader = DataLoader(val_dataset, batch_size=8, num_workers=8)\n",
    "test_loader = DataLoader(test_dataset, batch_size=max_batch_size, num_workers=8)"
   ]
  },
  {
   "cell_type": "code",
   "execution_count": 5,
   "id": "buried-spectrum",
   "metadata": {},
   "outputs": [
    {
     "data": {
      "text/plain": [
       "<All keys matched successfully>"
      ]
     },
     "execution_count": 5,
     "metadata": {},
     "output_type": "execute_result"
    }
   ],
   "source": [
    "model_dir = Path(\"../models/\")\n",
    "with (model_dir/\"MVCNNParams.json\").open(\"r\") as f:\n",
    "    config = json.load(f)\n",
    "\n",
    "svcnn = SVCNN(nclasses=len(class_names), pretrained=config[\"pretrained\"], cnn_name=config[\"cnn_name\"])\n",
    "model = MVCNN(svcnn, nclasses=len(class_names), num_views=12, cnn_name=config[\"cnn_name\"])\n",
    "model_state, _ = torch.load(model_dir/\"MVCNNWeights+Optimizer\")\n",
    "model.load_state_dict(model_state)"
   ]
  },
  {
   "cell_type": "code",
   "execution_count": 6,
   "id": "checked-magnitude",
   "metadata": {},
   "outputs": [
    {
     "data": {
      "text/plain": [
       "MVCNN(\n",
       "  (net_1): Sequential(\n",
       "    (0): Conv2d(3, 64, kernel_size=(3, 3), stride=(1, 1), padding=(1, 1))\n",
       "    (1): ReLU(inplace=True)\n",
       "    (2): MaxPool2d(kernel_size=2, stride=2, padding=0, dilation=1, ceil_mode=False)\n",
       "    (3): Conv2d(64, 128, kernel_size=(3, 3), stride=(1, 1), padding=(1, 1))\n",
       "    (4): ReLU(inplace=True)\n",
       "    (5): MaxPool2d(kernel_size=2, stride=2, padding=0, dilation=1, ceil_mode=False)\n",
       "    (6): Conv2d(128, 256, kernel_size=(3, 3), stride=(1, 1), padding=(1, 1))\n",
       "    (7): ReLU(inplace=True)\n",
       "    (8): Conv2d(256, 256, kernel_size=(3, 3), stride=(1, 1), padding=(1, 1))\n",
       "    (9): ReLU(inplace=True)\n",
       "    (10): MaxPool2d(kernel_size=2, stride=2, padding=0, dilation=1, ceil_mode=False)\n",
       "    (11): Conv2d(256, 512, kernel_size=(3, 3), stride=(1, 1), padding=(1, 1))\n",
       "    (12): ReLU(inplace=True)\n",
       "    (13): Conv2d(512, 512, kernel_size=(3, 3), stride=(1, 1), padding=(1, 1))\n",
       "    (14): ReLU(inplace=True)\n",
       "    (15): MaxPool2d(kernel_size=2, stride=2, padding=0, dilation=1, ceil_mode=False)\n",
       "    (16): Conv2d(512, 512, kernel_size=(3, 3), stride=(1, 1), padding=(1, 1))\n",
       "    (17): ReLU(inplace=True)\n",
       "    (18): Conv2d(512, 512, kernel_size=(3, 3), stride=(1, 1), padding=(1, 1))\n",
       "    (19): ReLU(inplace=True)\n",
       "    (20): MaxPool2d(kernel_size=2, stride=2, padding=0, dilation=1, ceil_mode=False)\n",
       "  )\n",
       "  (net_2): Sequential(\n",
       "    (0): Linear(in_features=25088, out_features=4096, bias=True)\n",
       "    (1): ReLU(inplace=True)\n",
       "    (2): Dropout(p=0.5, inplace=False)\n",
       "    (3): Linear(in_features=4096, out_features=4096, bias=True)\n",
       "    (4): ReLU(inplace=True)\n",
       "    (5): Dropout(p=0.5, inplace=False)\n",
       "    (6): Linear(in_features=4096, out_features=20, bias=True)\n",
       "  )\n",
       ")"
      ]
     },
     "execution_count": 6,
     "metadata": {},
     "output_type": "execute_result"
    }
   ],
   "source": [
    "device = torch.device(\"cuda\")\n",
    "model.to(device)"
   ]
  },
  {
   "cell_type": "code",
   "execution_count": 7,
   "id": "amateur-plasma",
   "metadata": {},
   "outputs": [],
   "source": [
    "def calc_metrics(probabilities, labels):\n",
    "    predictions = np.argmax(probabilities, axis=1)\n",
    "\n",
    "    acc = metrics.accuracy_score(labels, predictions)\n",
    "    balanced_acc = metrics.balanced_accuracy_score(labels, predictions)\n",
    "    precision = metrics.precision_score(labels, predictions, average=\"weighted\")\n",
    "    recall = metrics.recall_score(labels, predictions, average=\"weighted\")\n",
    "    f1 = metrics.f1_score(labels, predictions, average=\"weighted\")\n",
    "\n",
    "    return {\n",
    "        f\"accuracy_score\": acc,\n",
    "        f\"balanced_accuracy_score\": balanced_acc,\n",
    "        f\"precision_score\": precision,\n",
    "        f\"recall_score\": recall,\n",
    "        f\"f1_score\": f1\n",
    "    }\n",
    "\n",
    "def plot_confusion_matrix(confusion_matrix, display_labels, fname=None):\n",
    "    labels = list(map(lambda x: x[3:], display_labels))\n",
    "    df = pd.DataFrame(confusion_matrix, index=labels, columns=labels)\n",
    "    plt.figure(figsize=(7, 5))\n",
    "    sn.heatmap(df, cmap=\"Blues\", annot=True, fmt=\"d\", cbar=False)\n",
    "    plt.ylabel(\"Actual class\")\n",
    "    plt.xlabel(\"Predicted class\")\n",
    "    if fname:\n",
    "        plt.savefig(fname, dpi=300, bbox_inches=\"tight\")\n",
    "\n",
    "def eval(model, loader, device, class_names, fname=None):\n",
    "    model.eval()\n",
    "    all_probs = []\n",
    "    all_labels = []\n",
    "\n",
    "    with torch.no_grad():\n",
    "        for data, labels in tqdm(loader):\n",
    "            data, labels = data.to(device), labels.to(device)\n",
    "            data = data.view(-1, *data.shape[-3:])\n",
    "\n",
    "            outputs = model(data)\n",
    "\n",
    "            probs = F.softmax(outputs, dim=1)\n",
    "            all_probs.append(probs.cpu().detach().numpy())\n",
    "            all_labels.append(labels.cpu().numpy())\n",
    "\n",
    "    all_probs = np.concatenate(all_probs)\n",
    "    all_labels = np.concatenate(all_labels)\n",
    "    result = calc_metrics(all_probs, all_labels)\n",
    "    print(result)\n",
    "    predictions = np.argmax(all_probs, axis=1)\n",
    "    confusion_matrix = metrics.confusion_matrix(all_labels, predictions)\n",
    "    plot_confusion_matrix(confusion_matrix, class_names, fname=fname)\n",
    "    return all_labels, all_probs\n",
    "\n",
    "def count_parameters(model):\n",
    "    return sum(p.numel() for p in model.parameters() if p.requires_grad)"
   ]
  },
  {
   "cell_type": "code",
   "execution_count": 8,
   "id": "370033f4",
   "metadata": {},
   "outputs": [
    {
     "data": {
      "text/plain": [
       "128848276"
      ]
     },
     "execution_count": 8,
     "metadata": {},
     "output_type": "execute_result"
    }
   ],
   "source": [
    "count_parameters(model)"
   ]
  },
  {
   "cell_type": "code",
   "execution_count": null,
   "id": "monthly-operations",
   "metadata": {},
   "outputs": [],
   "source": [
    "eval(model, train_loader, device, class_names)"
   ]
  },
  {
   "cell_type": "code",
   "execution_count": null,
   "id": "later-trustee",
   "metadata": {},
   "outputs": [],
   "source": [
    "eval(model, val_loader, device, class_names)"
   ]
  },
  {
   "cell_type": "code",
   "execution_count": 8,
   "id": "inside-backup",
   "metadata": {
    "scrolled": false
   },
   "outputs": [
    {
     "name": "stderr",
     "output_type": "stream",
     "text": [
      "100%|██████████| 77/77 [00:39<00:00,  1.95it/s]\n"
     ]
    },
    {
     "name": "stdout",
     "output_type": "stream",
     "text": [
      "{'accuracy_score': 0.869693148381673, 'balanced_accuracy_score': 0.8554361052525193, 'precision_score': 0.8747509814545653, 'recall_score': 0.869693148381673, 'f1_score': 0.8693084700684225}\n"
     ]
    },
    {
     "data": {
      "image/png": "[encoded data removed]",
      "text/plain": [
       "<Figure size 504x360 with 1 Axes>"
      ]
     },
     "metadata": {
      "needs_background": "light"
     },
     "output_type": "display_data"
    }
   ],
   "source": [
    "test_labels, test_probs = eval(model, test_loader, device,\n",
    "                               class_names, fname=\"../reports/figures/mvcnn_confusion.png\")"
   ]
  },
  {
   "cell_type": "code",
   "execution_count": null,
   "id": "expected-ultimate",
   "metadata": {},
   "outputs": [],
   "source": [
    "np.savez(\"MVCNNProbs.npz\", labels=test_labels, probs=test_probs)"
   ]
  },
  {
   "cell_type": "code",
   "execution_count": 9,
   "id": "e326e557",
   "metadata": {},
   "outputs": [
    {
     "name": "stdout",
     "output_type": "stream",
     "text": [
      "17.67763258457184\n",
      "0.07009676121378322\n"
     ]
    }
   ],
   "source": [
    "data, labels = next(iter(train_loader))\n",
    "data = data.to(device)\n",
    "dummy_input = data.view(-1, *data.shape[-3:])\n",
    "\n",
    "# INIT LOGGERS\n",
    "starter, ender = torch.cuda.Event(enable_timing=True), torch.cuda.Event(enable_timing=True)\n",
    "repetitions = 1000\n",
    "timings=np.zeros((repetitions,1))\n",
    "#GPU-WARM-UP\n",
    "for _ in range(10):\n",
    "    _ = model(dummy_input)\n",
    "# MEASURE PERFORMANCE\n",
    "with torch.no_grad():\n",
    "    for rep in range(repetitions):\n",
    "        starter.record()\n",
    "        _ = model(dummy_input)\n",
    "        ender.record()\n",
    "        # WAIT FOR GPU SYNC\n",
    "        torch.cuda.synchronize()\n",
    "        curr_time = starter.elapsed_time(ender)\n",
    "        timings[rep] = curr_time\n",
    "mean_syn = np.sum(timings) / repetitions\n",
    "std_syn = np.std(timings)\n",
    "print(mean_syn)\n",
    "print(std_syn)"
   ]
  },
  {
   "cell_type": "code",
   "execution_count": 8,
   "id": "a04281eb",
   "metadata": {},
   "outputs": [
    {
     "name": "stdout",
     "output_type": "stream",
     "text": [
      "Final Throughput: 69.28531106233282\n"
     ]
    }
   ],
   "source": [
    "data, labels = next(iter(test_loader))\n",
    "data = data.to(device)\n",
    "dummy_input = data.view(-1, *data.shape[-3:])\n",
    "\n",
    "repetitions=100\n",
    "total_time = 0\n",
    "with torch.no_grad():\n",
    "    for rep in range(repetitions):\n",
    "        starter, ender = torch.cuda.Event(enable_timing=True), torch.cuda.Event(enable_timing=True)\n",
    "        starter.record()\n",
    "        _ = model(dummy_input)\n",
    "        ender.record()\n",
    "        torch.cuda.synchronize()\n",
    "        curr_time = starter.elapsed_time(ender)/1000\n",
    "        total_time += curr_time\n",
    "Throughput =   (repetitions*max_batch_size)/total_time\n",
    "print('Final Throughput:',Throughput)"
   ]
  },
  {
   "cell_type": "code",
   "execution_count": null,
   "id": "fossil-chester",
   "metadata": {},
   "outputs": [],
   "source": [
    "test_predictions = np.argmax(test_probs, axis=1)\n",
    "wrong_predictions = np.where(test_labels != test_predictions)[0]"
   ]
  },
  {
   "cell_type": "code",
   "execution_count": null,
   "id": "planned-migration",
   "metadata": {},
   "outputs": [],
   "source": [
    "wrong_pred_dir = Path(\"../data/external/MVCNN/wrong_classes/IFCNetCore\")\n",
    "raw_data_dict = {path.stem: path for path in Path(\"../data/raw/IFCNetCore\").glob(\"**/test/*.obj\")}\n",
    "wrong_pred_dir.mkdir(parents=True, exist_ok=True)\n",
    "for i in wrong_predictions:\n",
    "    label_str = class_names[test_labels[i]]\n",
    "    prediction_str = class_names[test_predictions[i]]\n",
    "    print(f\"{test_dataset.filepaths[i][0].stem[:-2]}, Label: {label_str}, Prediction: {prediction_str}\")\n",
    "    target_dir = wrong_pred_dir / label_str\n",
    "    target_dir.mkdir(exist_ok=True)\n",
    "    filename = test_dataset.filepaths[i][0]\n",
    "    shutil.copy(str(raw_data_dict[filename.stem[:-2]]), str(target_dir / f\"{filename.stem[:-2]}_{prediction_str}.obj\"))"
   ]
  },
  {
   "cell_type": "code",
   "execution_count": null,
   "id": "expressed-gambling",
   "metadata": {},
   "outputs": [],
   "source": []
  }
 ],
 "metadata": {
  "kernelspec": {
   "display_name": "Python 3",
   "language": "python",
   "name": "python3"
  },
  "language_info": {
   "codemirror_mode": {
    "name": "ipython",
    "version": 3
   },
   "file_extension": ".py",
   "mimetype": "text/x-python",
   "name": "python",
   "nbconvert_exporter": "python",
   "pygments_lexer": "ipython3",
   "version": "3.8.10"
  }
 },
 "nbformat": 4,
 "nbformat_minor": 5
}
